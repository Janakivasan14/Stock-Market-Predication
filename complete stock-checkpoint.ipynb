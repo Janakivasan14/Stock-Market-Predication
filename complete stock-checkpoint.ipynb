{
 "cells": [
  {
   "cell_type": "code",
   "execution_count": 21,
   "metadata": {},
   "outputs": [
    {
     "name": "stdout",
     "output_type": "stream",
     "text": [
      "[184.339996 186.809998 183.710007]\n"
     ]
    }
   ],
   "source": [
    "import sys\n",
    "from PyQt4.QtGui import QApplication\n",
    "from PyQt4.QtCore import QUrl\n",
    "from PyQt4.QtWebKit import QWebPage\n",
    "import bs4 as bs\n",
    "import urllib.request\n",
    "\n",
    "class Client(QWebPage):\n",
    "\n",
    "    def __init__(self, url):\n",
    "        self.app = QApplication(sys.argv)\n",
    "        QWebPage.__init__(self)\n",
    "        self.loadFinished.connect(self.on_page_load)\n",
    "        self.mainFrame().load(QUrl(url))\n",
    "        self.app.exec_()\n",
    "        \n",
    "    def on_page_load(self):\n",
    "        self.app.quit()\n",
    "        \n",
    "url = 'https://mmb.moneycontrol.com/forum-topics/stocks/yes-bank-246084.html'\n",
    "client_response = Client(url)\n",
    "source = client_response.mainFrame().toHtml()\n",
    "soup = bs.BeautifulSoup(source, 'lxml')\n",
    "content = soup.select('#msg_wraper .txt16gry a')\n",
    "print('review Count :',len(content))\n",
    "reviews=[]\n",
    "for i in content:\n",
    "    print(i.text)\n",
    "    reviews.append(i.text)\n",
    "\n",
    "print(reviews)\n"
   ]
  },
  {
   "cell_type": "code",
   "execution_count": 60,
   "metadata": {},
   "outputs": [
    {
     "name": "stdout",
     "output_type": "stream",
     "text": [
      "['negative', 'positive', 'positive', 'negative', 'positive', 'positive', 'positive', 'neutral', 'negative', 'positive', 'negative', 'positive', 'positive', 'negative', 'positive', 'positive', 'positive', 'neutral', 'negative', 'positive', 'negative', 'positive', 'positive', 'negative', 'positive', 'positive', 'positive', 'neutral', 'negative', 'positive', 'negative', 'positive', 'positive', 'negative', 'positive', 'positive', 'positive', 'neutral', 'negative', 'positive', 'negative', 'positive', 'positive', 'negative', 'positive', 'positive', 'positive', 'neutral', 'negative', 'positive', 'positive', 'negative', 'neutral', 'positive', 'neutral', 'negative', 'positive', 'neutral', 'positive', 'neutral', 'negative', 'positive', 'positive', 'negative', 'positive', 'positive', 'positive', 'neutral', 'negative', 'positive', 'positive', 'negative', 'neutral', 'positive', 'neutral', 'negative', 'positive', 'neutral', 'positive', 'neutral', 'negative', 'positive', 'positive', 'negative', 'positive', 'positive', 'positive', 'neutral', 'negative', 'positive', 'positive', 'negative', 'neutral', 'positive', 'neutral', 'negative', 'positive', 'neutral', 'positive', 'neutral', 'negative', 'positive', 'positive', 'negative', 'positive', 'positive', 'positive', 'neutral', 'negative', 'positive', 'positive', 'negative', 'neutral', 'positive', 'neutral', 'negative', 'positive', 'neutral', 'positive', 'neutral', 'positive', 'positive', 'positive', 'positive', 'neutral', 'negative', 'positive', 'negative', 'neutral', 'neutral', 'negative', 'positive', 'positive', 'negative', 'positive', 'positive', 'positive', 'neutral', 'negative', 'positive', 'positive', 'negative', 'neutral', 'positive', 'neutral', 'negative', 'positive', 'neutral', 'positive', 'neutral', 'positive', 'positive', 'positive', 'positive', 'neutral', 'negative', 'positive', 'negative', 'neutral', 'neutral', 'negative', 'positive', 'positive', 'negative', 'positive', 'positive', 'positive', 'neutral', 'negative', 'positive', 'positive', 'negative', 'neutral', 'positive', 'neutral', 'negative', 'positive', 'neutral', 'positive', 'neutral', 'positive', 'positive', 'positive', 'positive', 'neutral', 'negative', 'positive', 'negative', 'neutral', 'neutral', 'negative', 'positive', 'positive', 'negative', 'positive', 'positive', 'positive', 'neutral', 'negative', 'positive']\n"
     ]
    }
   ],
   "source": [
    "def n():\n",
    "    import nltk\n",
    "    from nltk.corpus import stopwords\n",
    "    from nltk.stem import SnowballStemmer\n",
    "    from nltk.tokenize import TweetTokenizer\n",
    "    from sklearn.feature_extraction.text import CountVectorizer, TfidfTransformer\n",
    "    from sklearn.linear_model import LogisticRegression\n",
    "    from sklearn.svm import SVC\n",
    "    from sklearn.model_selection import train_test_split, StratifiedKFold, cross_val_score\n",
    "    from sklearn.pipeline import make_pipeline, Pipeline\n",
    "    from sklearn.model_selection import GridSearchCV\n",
    "    from sklearn.metrics import make_scorer, accuracy_score, f1_score\n",
    "    from sklearn.metrics import roc_curve, auc\n",
    "    from sklearn.metrics import confusion_matrix, roc_auc_score, recall_score, precision_score\n",
    "    import re \n",
    "    import pandas as pd\n",
    "    from textblob import TextBlob \n",
    "    \n",
    "    data=pd.read_csv(\"trail.csv\",  engine='python')\n",
    "\n",
    "    def get_tweet_sentiment(tweet):\n",
    "        analysis = TextBlob(clean_tweet(tweet))     \n",
    "        if analysis.sentiment.polarity > 0:\n",
    "            return 'positive'\n",
    "        elif analysis.sentiment.polarity == 0: \n",
    "            return 'neutral'\n",
    "        else: \n",
    "            return 'negative'   \n",
    "\n",
    "    def clean_tweet(tweet):\n",
    "        return ' '.join(re.sub(\"(@[A-Za-z0-9]+)|([^0-9A-Za-z \\t]) |(\\w+:\\/\\/\\S+)\", \" \", tweet).split())         \n",
    "    \n",
    "    sentiment=[]\n",
    "    r=list(data.columns)\n",
    "    df=data[r[0]]\n",
    "    df\n",
    "    for i in range(len(df)):\n",
    "        n=df.iloc[i]\n",
    "        senti=get_tweet_sentiment(n)\n",
    "        sentiment.append(senti) \n",
    "    return sentiment\n",
    "  \n",
    "n()  "
   ]
  },
  {
   "cell_type": "code",
   "execution_count": null,
   "metadata": {
    "scrolled": false
   },
   "outputs": [
    {
     "name": "stdout",
     "output_type": "stream",
     "text": [
      "                   High          Low         Open        Close      Volume  \\\n",
      "Date                                                                         \n",
      "2012-01-02   354.875000   343.575012   348.399994   353.274994   8598434.0   \n",
      "2012-01-03   363.450012   355.174988   356.125000   362.325012   9366982.0   \n",
      "2012-01-04   365.475006   356.674988   363.700012   358.075012   8476734.0   \n",
      "2012-01-05   362.475006   347.049988   357.500000   349.750000  13239172.0   \n",
      "2012-01-06   362.000000   348.325012   348.524994   358.774994   9406294.0   \n",
      "...                 ...          ...          ...          ...         ...   \n",
      "2020-02-17  1506.150024  1474.300049  1489.000000  1478.250000   6011340.0   \n",
      "2020-02-18  1475.900024  1457.400024  1475.900024  1467.400024   5086964.0   \n",
      "2020-02-19  1506.449951  1475.099976  1479.349976  1503.800049   6438918.0   \n",
      "2020-02-20  1508.000000  1483.800049  1497.000000  1485.949951   7722577.0   \n",
      "2020-02-24  1477.000000  1439.550049  1469.750000  1444.949951   9769743.0   \n",
      "\n",
      "              Adj Close  \n",
      "Date                     \n",
      "2012-01-02   308.614227  \n",
      "2012-01-03   316.520142  \n",
      "2012-01-04   312.807434  \n",
      "2012-01-05   305.534882  \n",
      "2012-01-06   313.418945  \n",
      "...                 ...  \n",
      "2020-02-17  1478.250000  \n",
      "2020-02-18  1467.400024  \n",
      "2020-02-19  1503.800049  \n",
      "2020-02-20  1485.949951  \n",
      "2020-02-24  1444.949951  \n",
      "\n",
      "[2003 rows x 6 columns]\n"
     ]
    },
    {
     "data": {
      "image/png": "[encoded data removed]",
      "text/plain": [
       "<Figure size 1152x576 with 1 Axes>"
      ]
     },
     "metadata": {},
     "output_type": "display_data"
    },
    {
     "name": "stdout",
     "output_type": "stream",
     "text": [
      "[array([0.01197029, 0.01908564, 0.01574418, 0.00919885, 0.01629453,\n",
      "       0.01185236, 0.02362609, 0.02836309, 0.02390127, 0.02189638,\n",
      "       0.01448622, 0.02592579, 0.04074614, 0.04306551, 0.0458173 ,\n",
      "       0.03752261, 0.04231859, 0.04514901, 0.05672618, 0.04664283,\n",
      "       0.05542889, 0.06097179, 0.06020522, 0.06376288, 0.06167939,\n",
      "       0.06621984, 0.07166446, 0.06987578, 0.06570879, 0.06806747,\n",
      "       0.06792989, 0.06311426, 0.05360093, 0.05586133, 0.06582672,\n",
      "       0.06183664, 0.06427392, 0.05654927, 0.04141443, 0.04733078,\n",
      "       0.05686376, 0.05301126, 0.05424955, 0.04772389, 0.03948817,\n",
      "       0.03368976, 0.03840711, 0.04813665, 0.05654927, 0.0544068 ,\n",
      "       0.04738975, 0.0378371 , 0.0310559 , 0.03319837, 0.03614672,\n",
      "       0.02368504, 0.02671201, 0.02122808, 0.02160155, 0.0194984 ])]\n",
      "[0.0190856396831508]\n",
      "\n",
      "[array([0.01197029, 0.01908564, 0.01574418, 0.00919885, 0.01629453,\n",
      "       0.01185236, 0.02362609, 0.02836309, 0.02390127, 0.02189638,\n",
      "       0.01448622, 0.02592579, 0.04074614, 0.04306551, 0.0458173 ,\n",
      "       0.03752261, 0.04231859, 0.04514901, 0.05672618, 0.04664283,\n",
      "       0.05542889, 0.06097179, 0.06020522, 0.06376288, 0.06167939,\n",
      "       0.06621984, 0.07166446, 0.06987578, 0.06570879, 0.06806747,\n",
      "       0.06792989, 0.06311426, 0.05360093, 0.05586133, 0.06582672,\n",
      "       0.06183664, 0.06427392, 0.05654927, 0.04141443, 0.04733078,\n",
      "       0.05686376, 0.05301126, 0.05424955, 0.04772389, 0.03948817,\n",
      "       0.03368976, 0.03840711, 0.04813665, 0.05654927, 0.0544068 ,\n",
      "       0.04738975, 0.0378371 , 0.0310559 , 0.03319837, 0.03614672,\n",
      "       0.02368504, 0.02671201, 0.02122808, 0.02160155, 0.0194984 ]), array([0.01908564, 0.01574418, 0.00919885, 0.01629453, 0.01185236,\n",
      "       0.02362609, 0.02836309, 0.02390127, 0.02189638, 0.01448622,\n",
      "       0.02592579, 0.04074614, 0.04306551, 0.0458173 , 0.03752261,\n",
      "       0.04231859, 0.04514901, 0.05672618, 0.04664283, 0.05542889,\n",
      "       0.06097179, 0.06020522, 0.06376288, 0.06167939, 0.06621984,\n",
      "       0.07166446, 0.06987578, 0.06570879, 0.06806747, 0.06792989,\n",
      "       0.06311426, 0.05360093, 0.05586133, 0.06582672, 0.06183664,\n",
      "       0.06427392, 0.05654927, 0.04141443, 0.04733078, 0.05686376,\n",
      "       0.05301126, 0.05424955, 0.04772389, 0.03948817, 0.03368976,\n",
      "       0.03840711, 0.04813665, 0.05654927, 0.0544068 , 0.04738975,\n",
      "       0.0378371 , 0.0310559 , 0.03319837, 0.03614672, 0.02368504,\n",
      "       0.02671201, 0.02122808, 0.02160155, 0.0194984 , 0.01908564])]\n",
      "[0.0190856396831508, 0.029286894466953428]\n",
      "\n",
      "if you want to train model yes:y no:n\n",
      "y\n",
      "Epoch 1/1\n",
      "1144/1543 [=====================>........] - ETA: 2:27 - loss: 6.7264e-04"
     ]
    }
   ],
   "source": [
    "\n",
    "import math\n",
    "import pandas_datareader as web\n",
    "import numpy as np\n",
    "import pandas as pd\n",
    "from sklearn.preprocessing import MinMaxScaler\n",
    "from keras.models import Sequential\n",
    "from keras.layers import Dense, LSTM #stock prediction\n",
    "import matplotlib.pyplot as plt\n",
    "plt.style.use('fivethirtyeight')\n",
    "\n",
    "df = web.DataReader('RELIANCE.NS', data_source='yahoo', start='2012-01-01', end='2020-02-24')\n",
    "print(df)\n",
    "\n",
    "df\n",
    "df.shape\n",
    "plt.figure(figsize=(16,8))\n",
    "plt.title('Close Price History')\n",
    "plt.plot(df['Close'])\n",
    "plt.xlabel('Date', fontsize=18)\n",
    "plt.ylabel('Close Price USD ($)', fontsize=18)\n",
    "plt.show()\n",
    "\n",
    "data = df.filter(['Close'])\n",
    "\n",
    "dataset = data.values\n",
    "\n",
    "training_data_len = math.ceil( len(dataset) * .8 )\n",
    "\n",
    "training_data_len\n",
    "#Scale the data\n",
    "scaler = MinMaxScaler(feature_range=(0,1))\n",
    "scaled_data = scaler.fit_transform(dataset)#convrted onto an array\n",
    "\n",
    "scaled_data\n",
    "#Create the training data set\n",
    "#Create the scaled training data set\n",
    "train_data = scaled_data[0:training_data_len , :]\n",
    "#Split the data into x_train and y_train data sets\n",
    "x_train = []\n",
    "y_train = []\n",
    "\n",
    "for i in range(60, len(train_data)):\n",
    "    \n",
    "    x_train.append(train_data[i-60:i, 0])\n",
    "    y_train.append(train_data[i, 0])\n",
    "    if i<= 61:\n",
    "        print(x_train)\n",
    "        print(y_train)\n",
    "        print()\n",
    "    \n",
    "#Convert the x_train and y_train to numpy arrays \n",
    "x_train, y_train = np.array(x_train), np.array(y_train)\n",
    "\n",
    "#Reshape the data\n",
    "x_train = np.reshape(x_train, (x_train.shape[0], x_train.shape[1], 1))\n",
    "x_train.shape\n",
    "#Build the LSTM model\n",
    "model = Sequential()\n",
    "model.add(LSTM(50, return_sequences=True, input_shape= (x_train.shape[1], 1)))\n",
    "model.add(LSTM(50, return_sequences= False))\n",
    "model.add(Dense(25))\n",
    "model.add(Dense(1))\n",
    "#Compile the model\n",
    "print(\"if you want to train model yes:y no:n\")\n",
    "c=input()\n",
    "if(c=='y'):\n",
    "    model.compile(optimizer='adam', loss='mean_squared_error')\n",
    "#Train the model\n",
    "    model.fit(x_train, y_train, batch_size=1, epochs=1)\n",
    "\n",
    "#Create the testing data set\n",
    "#Create a new array containing scaled values from index 1543 to 2002 \n",
    "test_data = scaled_data[training_data_len - 60: , :]\n",
    "#Create the data sets x_test and y_test\n",
    "x_test = []\n",
    "y_test = dataset[training_data_len:, :]\n",
    "for i in range(60, len(test_data)):\n",
    "    x_test.append(test_data[i-60:i, 0])\n",
    "#Convert the data to a numpy array\n",
    "x_test = np.array(x_test)\n",
    "\n",
    "#Reshape the data\n",
    "x_test = np.reshape(x_test, (x_test.shape[0], x_test.shape[1], 1 ))\n",
    "\n",
    "#Get the models predicted price values \n",
    "predictions = model.predict(x_test)\n",
    "predictions = scaler.inverse_transform(predictions)\n",
    "#Get the root mean squared error (RMSE)\n",
    "rmse=np.sqrt(np.mean(((predictions- y_test)**2)))\n",
    "rmse\n",
    "#Plot the data\n",
    "train = data[:training_data_len]\n",
    "valid = data[training_data_len:]\n",
    "valid['Predictions'] = predictions\n",
    "#Visualize the data\n",
    "plt.figure(figsize=(16,8))\n",
    "plt.title('Model')\n",
    "plt.xlabel('Date', fontsize=18)\n",
    "plt.ylabel('Close Price USD ($)', fontsize=18)\n",
    "plt.plot(train['Close'])\n",
    "plt.plot(valid[['Close', 'Predictions']])\n",
    "plt.legend(['Train', 'Val', 'Predictions'], loc='lower right')\n",
    "plt.show()\n",
    "#Show the valid and predicted prices\n",
    "print(\"pridected model for 20 months\\n\\n\\n\")\n",
    "plt.figure(figsize=(16,8))\n",
    "plt.title('Model')\n",
    "plt.xlabel('Date', fontsize=18)\n",
    "plt.ylabel('Close Price ', fontsize=18)\n",
    "plt.plot(valid[[ 'Predictions']])\n",
    "plt.legend(['Predictions'], loc='lower right')\n",
    "plt.show()\n",
    "valid\n",
    "#Get the quote\n",
    "apple_quote = df\n",
    "#Create a new dataframe\n",
    "new_df = apple_quote.filter(['Close'])\n",
    "#Get teh last 60 day closing price values and convert the dataframe to an array\n",
    "last_60_days = new_df[-60:].values\n",
    "#Scale the data to be values between 0 and 1\n",
    "last_60_days_scaled = scaler.transform(last_60_days)\n",
    "#Create an empty list\n",
    "X_test = []\n",
    "#Append teh past 60 days\n",
    "X_test.append(last_60_days_scaled)\n",
    "#Convert the X_test data set to a numpy array\n",
    "X_test = np.array(X_test)\n",
    "#Reshape the data\n",
    "X_test = np.reshape(X_test, (X_test.shape[0], X_test.shape[1], 1))\n",
    "#Get the predicted scaled price\n",
    "pred_price = model.predict(X_test)\n",
    "#undo the scaling \n",
    "pred_price = scaler.inverse_transform(pred_price)\n",
    "print(pred_price)\n",
    "#Get the quote\n",
    "\n",
    "#a=input(\"enter the start date to pridect in the formate yyyy-mm-dd\")\n",
    "#b=input(\"enter the end date to pridect in the formate yyyy-mm-dd\")\n",
    "#apple_quote2 = web.DataReader('YESBANK.ns', data_source='yahoo', start=a, end=b)\n",
    "#print(apple_quote2['Close'])\n"
   ]
  },
  {
   "cell_type": "code",
   "execution_count": 23,
   "metadata": {},
   "outputs": [],
   "source": [
    "name=\"python\""
   ]
  },
  {
   "cell_type": "code",
   "execution_count": null,
   "metadata": {},
   "outputs": [],
   "source": []
  },
  {
   "cell_type": "code",
   "execution_count": null,
   "metadata": {},
   "outputs": [],
   "source": []
  },
  {
   "cell_type": "code",
   "execution_count": null,
   "metadata": {},
   "outputs": [],
   "source": []
  },
  {
   "cell_type": "code",
   "execution_count": 24,
   "metadata": {
    "scrolled": true
   },
   "outputs": [
    {
     "data": {
      "text/plain": [
       "'n'"
      ]
     },
     "execution_count": 24,
     "metadata": {},
     "output_type": "execute_result"
    }
   ],
   "source": [
    "name[-1]"
   ]
  },
  {
   "cell_type": "code",
   "execution_count": 26,
   "metadata": {},
   "outputs": [
    {
     "data": {
      "text/plain": [
       "'p'"
      ]
     },
     "execution_count": 26,
     "metadata": {},
     "output_type": "execute_result"
    }
   ],
   "source": [
    "name[0]"
   ]
  },
  {
   "cell_type": "markdown",
   "metadata": {},
   "source": []
  },
  {
   "cell_type": "code",
   "execution_count": 27,
   "metadata": {},
   "outputs": [
    {
     "data": {
      "text/plain": [
       "'tho'"
      ]
     },
     "execution_count": 27,
     "metadata": {},
     "output_type": "execute_result"
    }
   ],
   "source": [
    "name[2:-1]"
   ]
  },
  {
   "cell_type": "code",
   "execution_count": 34,
   "metadata": {},
   "outputs": [
    {
     "name": "stdout",
     "output_type": "stream",
     "text": [
      "True\n"
     ]
    }
   ],
   "source": [
    "s=\"haihello\"\n",
    "s1=\"haihello\"\n",
    "\n",
    "print(s1 is s)"
   ]
  },
  {
   "cell_type": "code",
   "execution_count": 35,
   "metadata": {},
   "outputs": [
    {
     "ename": "TypeError",
     "evalue": "argument of type 'int' is not iterable",
     "output_type": "error",
     "traceback": [
      "\u001b[1;31m---------------------------------------------------------------------------\u001b[0m",
      "\u001b[1;31mTypeError\u001b[0m                                 Traceback (most recent call last)",
      "\u001b[1;32m<ipython-input-35-aa479bc80961>\u001b[0m in \u001b[0;36m<module>\u001b[1;34m\u001b[0m\n\u001b[0;32m      1\u001b[0m \u001b[0mn\u001b[0m\u001b[1;33m=\u001b[0m\u001b[1;36m123\u001b[0m\u001b[1;33m\u001b[0m\u001b[1;33m\u001b[0m\u001b[0m\n\u001b[0;32m      2\u001b[0m \u001b[0mn1\u001b[0m\u001b[1;33m=\u001b[0m\u001b[1;36m12\u001b[0m\u001b[1;33m\u001b[0m\u001b[1;33m\u001b[0m\u001b[0m\n\u001b[1;32m----> 3\u001b[1;33m \u001b[0mprint\u001b[0m\u001b[1;33m(\u001b[0m\u001b[0mn1\u001b[0m \u001b[1;32min\u001b[0m \u001b[0mn\u001b[0m\u001b[1;33m)\u001b[0m\u001b[1;33m\u001b[0m\u001b[1;33m\u001b[0m\u001b[0m\n\u001b[0m",
      "\u001b[1;31mTypeError\u001b[0m: argument of type 'int' is not iterable"
     ]
    }
   ],
   "source": [
    "n=123\n",
    "n1=12\n",
    "print(n1 in n)"
   ]
  },
  {
   "cell_type": "code",
   "execution_count": 37,
   "metadata": {},
   "outputs": [
    {
     "name": "stdout",
     "output_type": "stream",
     "text": [
      "True\n"
     ]
    }
   ],
   "source": [
    "n=123\n",
    "n1=123\n",
    "\n",
    "print(n1 is n)"
   ]
  },
  {
   "cell_type": "code",
   "execution_count": 40,
   "metadata": {},
   "outputs": [
    {
     "name": "stdout",
     "output_type": "stream",
     "text": [
      "enter the number45\n",
      "45\n"
     ]
    },
    {
     "data": {
      "text/plain": [
       "int"
      ]
     },
     "execution_count": 40,
     "metadata": {},
     "output_type": "execute_result"
    }
   ],
   "source": [
    "n=input(\"enter the number\")\n",
    "print(n)\n",
    "n=int(n)\n",
    "type(n)"
   ]
  },
  {
   "cell_type": "code",
   "execution_count": null,
   "metadata": {},
   "outputs": [],
   "source": []
  }
 ],
 "metadata": {
  "kernelspec": {
   "display_name": "Python 3",
   "language": "python",
   "name": "python3"
  },
  "language_info": {
   "codemirror_mode": {
    "name": "ipython",
    "version": 3
   },
   "file_extension": ".py",
   "mimetype": "text/x-python",
   "name": "python",
   "nbconvert_exporter": "python",
   "pygments_lexer": "ipython3",
   "version": "3.7.4"
  }
 },
 "nbformat": 4,
 "nbformat_minor": 2
}
